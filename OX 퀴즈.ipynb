{
 "cells": [
  {
   "cell_type": "markdown",
   "id": "1f903873",
   "metadata": {},
   "source": [
    "# 프로그래머스 | Level 0 | Python 3 | ox퀴즈\n",
    "## 문제\n",
    "덧셈, 뺄셈 수식들이 'X [연산자] Y = Z' 형태로 들어있는 문자열 배열 quiz가 매개변수로 주어집니다. 수식이 옳다면 \"O\"를 틀리다면 \"X\"를 순서대로 담은 배열을 return하도록 solution 함수를 완성해주세요.\n"
   ]
  },
  {
   "cell_type": "code",
   "execution_count": 28,
   "id": "53639d01",
   "metadata": {},
   "outputs": [
    {
     "name": "stdout",
     "output_type": "stream",
     "text": [
      "3 - 4 = -3\n",
      "5 + 6 = 11\n",
      "['5', '+', '6', '=', '11']\n",
      "[['3', '-', '4', '=', '-3'], ['5', '+', '6', '=', '11']]\n",
      "갯수 확인 ['3', '-', '4', '=', '-3']\n",
      "-1\n",
      "X\n",
      "갯수 확인 ['5', '+', '6', '=', '11']\n",
      "11\n",
      "O\n",
      "['X', 'O']\n"
     ]
    }
   ],
   "source": [
    "quiz = [\"3 - 4 = -3\", \"5 + 6 = 11\"]\n",
    "\n",
    "\n",
    "quiz_list =[]\n",
    "for i in quiz:\n",
    "  print(i)\n",
    "\n",
    "  a=i.split(\" \")\n",
    "  quiz_list.append(a)\n",
    "print(a)\n",
    "\n",
    "print(quiz_list)\n",
    "\n",
    "\n",
    "\n",
    "ox_list=[]\n",
    "for v in quiz_list:\n",
    "  print(\"갯수 확인\",v)\n",
    "\n",
    "  if v[1]== \"+\":\n",
    "    real_answer=int(v[0])+int(v[2])\n",
    "    print(real_answer)\n",
    "\n",
    "\n",
    "  elif v[1]== \"-\":\n",
    "    real_answer=int(v[0])-int(v[2])\n",
    "    print(real_answer)\n",
    "    \n",
    "  if real_answer == int(v[4]):\n",
    "    ox=\"O\"\n",
    "    ox_list.append(ox)\n",
    "    print(ox)\n",
    "\n",
    "  elif real_answer != int(v[4]):\n",
    "    ox=\"X\"\n",
    "    ox_list.append(ox)\n",
    "    print(ox)\n",
    "\n",
    "print(ox_list)\n"
   ]
  },
  {
   "cell_type": "code",
   "execution_count": null,
   "id": "cce23245",
   "metadata": {},
   "outputs": [],
   "source": [
    "quiz = [\"19 - 6 = 13\", \"5 + 66 = 71\", \"5 - 15 = 63\", \"3 - 1 = 2\"]\n",
    "\n",
    "def solution(quiz):\n",
    "  quiz_list =[]\n",
    "  for i in quiz:\n",
    "    print(i)\n",
    "\n",
    "    a=i.split(\" \")\n",
    "    quiz_list.append(a)\n",
    "  print(a)\n",
    "\n",
    "  print(quiz_list)\n",
    "\n",
    "\n",
    "\n",
    "  ox_list=[]\n",
    "  for v in quiz_list:\n",
    "    print(v)\n",
    "    if v[1]== \"+\":\n",
    "      real_answer=int(v[0])+int(v[2])\n",
    "      print(real_answer)\n",
    "    elif v[1]== \"-\":\n",
    "      real_answer=int(v[0])-int(v[2])\n",
    "      print(real_answer)\n",
    "      \n",
    "      if real_answer == int(v[4]):\n",
    "        ox=\"O\"\n",
    "        ox_list.append(ox)\n",
    "\n",
    "      else:\n",
    "        ox=\"X\"\n",
    "        ox_list.append(ox)\n",
    "\n",
    "\n",
    "    print(ox_list)\n",
    "\n",
    "    return ox_list\n"
   ]
  }
 ],
 "metadata": {
  "kernelspec": {
   "display_name": "Python 3",
   "language": "python",
   "name": "python3"
  },
  "language_info": {
   "codemirror_mode": {
    "name": "ipython",
    "version": 3
   },
   "file_extension": ".py",
   "mimetype": "text/x-python",
   "name": "python",
   "nbconvert_exporter": "python",
   "pygments_lexer": "ipython3",
   "version": "3.13.9"
  }
 },
 "nbformat": 4,
 "nbformat_minor": 5
}
