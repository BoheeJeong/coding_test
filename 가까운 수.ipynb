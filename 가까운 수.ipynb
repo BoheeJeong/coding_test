{
 "cells": [
  {
   "cell_type": "markdown",
   "id": "68e83147",
   "metadata": {},
   "source": [
    "# 프로그래머스 | Level 0 | Python 3 | 가까운 수\n",
    "## 문제\n",
    "정수 배열 array와 정수 n이 매개변수로 주어질 때, array에 들어있는 정수 중 n과 가장 가까운 수를 return 하도록 solution 함수를 완성해주세요.\n",
    "### 제한사항\n",
    "- 1 ≤ array의 길이 ≤ 100\n",
    "- 1 ≤ array의 원소 ≤ 100\n",
    "- 1 ≤ n ≤ 100\n",
    "- 가장 가까운 수가 여러 개일 경우 더 작은 수를 return 합니다."
   ]
  },
  {
   "cell_type": "code",
   "execution_count": 13,
   "id": "8fe34500",
   "metadata": {},
   "outputs": [
    {
     "name": "stdout",
     "output_type": "stream",
     "text": [
      "8\n"
     ]
    }
   ],
   "source": [
    "array=[3, 10, 28]\n",
    "n=20\n",
    "\n",
    "a=[]\n",
    "for i in range(0,len(array)):\n",
    "  abs_minus=abs(array[i]-n)\n",
    "  a.append(abs_minus)\n",
    "\n",
    "\n",
    "for v,item in enumerate(a):\n",
    "  if array[i] == min(a):\n",
    "    answer = array[i]\n",
    "\n",
    "print(answer)"
   ]
  }
 ],
 "metadata": {
  "kernelspec": {
   "display_name": "Python 3",
   "language": "python",
   "name": "python3"
  },
  "language_info": {
   "codemirror_mode": {
    "name": "ipython",
    "version": 3
   },
   "file_extension": ".py",
   "mimetype": "text/x-python",
   "name": "python",
   "nbconvert_exporter": "python",
   "pygments_lexer": "ipython3",
   "version": "3.13.9"
  }
 },
 "nbformat": 4,
 "nbformat_minor": 5
}
