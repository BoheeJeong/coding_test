{
 "cells": [
  {
   "cell_type": "markdown",
   "id": "942190ee",
   "metadata": {},
   "source": [
    "# 프로그래머스 | Level 0 | Python 3 | A로 B 만들기\n",
    "## 문제\n",
    "문자열 before와 after가 매개변수로 주어질 때, before의 순서를 바꾸어 after를 만들 수 있으면 1을, 만들 수 없으면 0을 return 하도록 solution 함수를 완성해보세요.\n",
    "\n",
    "### 제한사항\n",
    "- 0 < before의 길이 == after의 길이 < 1,000\n",
    "- before와 after는 모두 소문자로 이루어져 있습니다."
   ]
  },
  {
   "cell_type": "markdown",
   "id": "9e6bbaec",
   "metadata": {},
   "source": [
    "### 틀렸던 코드"
   ]
  },
  {
   "cell_type": "code",
   "execution_count": null,
   "id": "588c3bd6",
   "metadata": {},
   "outputs": [
    {
     "name": "stdout",
     "output_type": "stream",
     "text": [
      "['h', 'e', 'l', 'l', 'o']\n",
      "hello\n",
      "1\n"
     ]
    }
   ],
   "source": [
    "#단순히 순서를 거꾸로 뒤집기가 아닌 같은 구성이 있는지 봐야했음\n",
    "\n",
    "before = \"olleh\"\n",
    "after =\"hello\"\n",
    "\n",
    "a=[]\n",
    "\n",
    "for i in before:\n",
    "  a.append(i)\n",
    "a.reverse()\n",
    "print(a)\n",
    "\n",
    "d=\"\"\n",
    "before_reversed=d.join(a)\n",
    "print(before_reversed)\n",
    "\n",
    "if before_reversed == after:\n",
    "  answer=1\n",
    "\n",
    "else :\n",
    "  answer =0\n",
    "\n",
    "print(answer)"
   ]
  },
  {
   "cell_type": "code",
   "execution_count": 24,
   "id": "e8027bdc",
   "metadata": {},
   "outputs": [
    {
     "ename": "IndentationError",
     "evalue": "unindent does not match any outer indentation level (<string>, line 11)",
     "output_type": "error",
     "traceback": [
      "  \u001b[36mFile \u001b[39m\u001b[32m<string>:11\u001b[39m\n\u001b[31m    \u001b[39m\u001b[31mprint(after.find(i))\u001b[39m\n                        ^\n\u001b[31mIndentationError\u001b[39m\u001b[31m:\u001b[39m unindent does not match any outer indentation level\n"
     ]
    }
   ],
   "source": [
    "before = \"allpe\"\n",
    "after =\"apple\"\n",
    "\n",
    "\n",
    "\n",
    "for i in before:\n",
    "    b= after.find(i)\n",
    "    \n",
    "    if b == -1:\n",
    "       answer =0\n",
    "  print(after.find(i))\n",
    "\n",
    "\n"
   ]
  },
  {
   "cell_type": "code",
   "execution_count": 33,
   "id": "9f64f0a1",
   "metadata": {},
   "outputs": [
    {
     "name": "stdout",
     "output_type": "stream",
     "text": [
      "[0, 1, 1, 3, 4]\n",
      "1\n"
     ]
    }
   ],
   "source": [
    "#아 글자수가 안맞구나! 중복되는 문자가 있을 떄 어떻게 제거해야할까\n",
    "\n",
    "before = \"allpe\"\n",
    "after =\"apple\"\n",
    "\n",
    "\n",
    "before_list =[]\n",
    "for i in before :\n",
    "  b= before.find(i)\n",
    "  before_list.append(b)\n",
    " \n",
    "print(before_list)\n",
    "if -1 in before_list:\n",
    "  answer=0\n",
    "else :\n",
    "  answer=1\n",
    "\n",
    "print(answer)"
   ]
  },
  {
   "cell_type": "code",
   "execution_count": 8,
   "id": "7b2c60b4",
   "metadata": {},
   "outputs": [],
   "source": [
    "before = \"allpe\"\n",
    "after =\"apple\"\n",
    "\n",
    "before_list=list(before)\n",
    "after_list=list(after)\n",
    "\n",
    "if sorted(before_list) == sorted(after_list):\n",
    "  answer =1\n",
    "else :\n",
    "  answer=0\n"
   ]
  }
 ],
 "metadata": {
  "kernelspec": {
   "display_name": "Python 3",
   "language": "python",
   "name": "python3"
  },
  "language_info": {
   "codemirror_mode": {
    "name": "ipython",
    "version": 3
   },
   "file_extension": ".py",
   "mimetype": "text/x-python",
   "name": "python",
   "nbconvert_exporter": "python",
   "pygments_lexer": "ipython3",
   "version": "3.13.9"
  }
 },
 "nbformat": 4,
 "nbformat_minor": 5
}
