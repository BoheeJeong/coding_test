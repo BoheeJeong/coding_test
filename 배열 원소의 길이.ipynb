{
 "cells": [
  {
   "cell_type": "markdown",
   "id": "aa340e1f",
   "metadata": {},
   "source": [
    "# 프로그래머스 | Level 0 | Python 3 | 배열 원소의 길이\n",
    "## 문제\n",
    "문자열 배열 strlist가 매개변수로 주어집니다. strlist 각 원소의 길이를 담은 배열을 return하도록 solution 함수를 완성해주세요.\n",
    "### 제한사항\n",
    "1 ≤ strlist 원소의 길이 ≤ 100\n",
    "strlist는 알파벳 소문자, 대문자, 특수문자로 구성되어 있습니다."
   ]
  },
  {
   "cell_type": "code",
   "execution_count": 3,
   "id": "325585d4",
   "metadata": {},
   "outputs": [
    {
     "name": "stdout",
     "output_type": "stream",
     "text": [
      "We 2\n",
      "are 3\n",
      "the 3\n",
      "world! 6\n",
      "[2, 3, 3, 6]\n"
     ]
    }
   ],
   "source": [
    "strlist= [\"We\", \"are\", \"the\", \"world!\"]\n",
    "a=[]\n",
    "for i in strlist:\n",
    "  print(i,len(i))\n",
    "  a.append(len(i))\n",
    "print(a)"
   ]
  }
 ],
 "metadata": {
  "kernelspec": {
   "display_name": "Python 3",
   "language": "python",
   "name": "python3"
  },
  "language_info": {
   "codemirror_mode": {
    "name": "ipython",
    "version": 3
   },
   "file_extension": ".py",
   "mimetype": "text/x-python",
   "name": "python",
   "nbconvert_exporter": "python",
   "pygments_lexer": "ipython3",
   "version": "3.13.9"
  }
 },
 "nbformat": 4,
 "nbformat_minor": 5
}
