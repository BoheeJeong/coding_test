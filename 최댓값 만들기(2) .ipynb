{
 "cells": [
  {
   "cell_type": "markdown",
   "id": "9f4c38df",
   "metadata": {},
   "source": [
    "# 프로그래머스 | Level 0 | Python 3 | 최댓값 만들기 (2)\n",
    "## 문제\n",
    "정수 배열 numbers가 매개변수로 주어집니다. numbers의 원소 중 두 개를 곱해 만들 수 있는 최댓값을 return하도록 solution 함수를 완성해주세요.\n",
    "\n",
    "### 제한사항\n",
    "- -10,000 ≤ numbers의 원소 ≤ 10,000\n",
    "- 2 ≤ numbers 의 길이 ≤ 100"
   ]
  },
  {
   "cell_type": "code",
   "execution_count": 19,
   "id": "876836dd",
   "metadata": {},
   "outputs": [
    {
     "data": {
      "text/plain": [
       "240"
      ]
     },
     "execution_count": 19,
     "metadata": {},
     "output_type": "execute_result"
    }
   ],
   "source": [
    "numbers=[0, -31, 24, 10, 1, 9]\n",
    "\n",
    "numbers.sort()\n",
    "max(numbers[0]*numbers[1],numbers[-1]*numbers[-2])\n",
    "\n",
    "\n",
    "  "
   ]
  },
  {
   "cell_type": "markdown",
   "id": "fee044a6",
   "metadata": {},
   "source": []
  }
 ],
 "metadata": {
  "kernelspec": {
   "display_name": "Python 3",
   "language": "python",
   "name": "python3"
  },
  "language_info": {
   "codemirror_mode": {
    "name": "ipython",
    "version": 3
   },
   "file_extension": ".py",
   "mimetype": "text/x-python",
   "name": "python",
   "nbconvert_exporter": "python",
   "pygments_lexer": "ipython3",
   "version": "3.13.9"
  }
 },
 "nbformat": 4,
 "nbformat_minor": 5
}
