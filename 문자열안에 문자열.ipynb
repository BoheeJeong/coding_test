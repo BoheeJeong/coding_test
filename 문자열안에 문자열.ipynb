{
 "cells": [
  {
   "cell_type": "markdown",
   "id": "c44d0d2a",
   "metadata": {},
   "source": [
    "# 프로그래머스 | Level 0 | Python 3 | 문자열 안에 문자열\n",
    "## 문제\n",
    "문자열 str1, str2가 매개변수로 주어집니다. str1 안에 str2가 있다면 1을 없다면 2를 return하도록 solution 함수를 완성해주세요.\n",
    "\n",
    "\n",
    "\n",
    "### 제한사항\n",
    "- 1 ≤ str1의 길이 ≤ 100\n",
    "- 1 ≤ str2의 길이 ≤ 100\n",
    "- 문자열은 알파벳 대문자, 소문자, 숫자로 구성되어 있습니다."
   ]
  },
  {
   "cell_type": "code",
   "execution_count": 5,
   "id": "b307755a",
   "metadata": {},
   "outputs": [
    {
     "name": "stdout",
     "output_type": "stream",
     "text": [
      "1\n"
     ]
    }
   ],
   "source": [
    "str1=\"ab6CDE443fgh22iJKlmn1o\"\n",
    "str2=\"6CD\"\n",
    "\n",
    "if str1.find(str2) != -1:\n",
    "  answer =1\n",
    "else :\n",
    "  answer =2\n",
    "\n",
    "print(answer)\n",
    "\n"
   ]
  }
 ],
 "metadata": {
  "kernelspec": {
   "display_name": "Python 3",
   "language": "python",
   "name": "python3"
  },
  "language_info": {
   "codemirror_mode": {
    "name": "ipython",
    "version": 3
   },
   "file_extension": ".py",
   "mimetype": "text/x-python",
   "name": "python",
   "nbconvert_exporter": "python",
   "pygments_lexer": "ipython3",
   "version": "3.13.9"
  }
 },
 "nbformat": 4,
 "nbformat_minor": 5
}
