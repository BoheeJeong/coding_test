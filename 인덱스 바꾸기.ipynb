{
 "cells": [
  {
   "cell_type": "markdown",
   "id": "3dacf800",
   "metadata": {},
   "source": [
    "# 프로그래머스 | Level 0 | Python 3 | 인덱스 바꾸기\n",
    "## 문제\n",
    "문자열 my_string과 정수 num1, num2가 매개변수로 주어질 때, my_string에서 인덱스 num1과 인덱스 num2에 해당하는 문자를 바꾼 문자열을 return 하도록 solution 함수를 완성해보세요.\n",
    "\n",
    "\n",
    "### 제한사항\n",
    "- 1 < my_string의 길이 < 100\n",
    "- 0 ≤ num1, num2 < my_string의 길이\n",
    "- my_string은 소문자로 이루어져 있습니다.\n",
    "- num1 ≠ num2"
   ]
  },
  {
   "cell_type": "markdown",
   "id": "4f61a29e",
   "metadata": {},
   "source": [
    "- 문자열에 list() 를 적용하여 각 문자 요소들로 이루어진 리스트를 생성한다\n",
    "- 리스트의 순서를 서로 맞바꾸어준다"
   ]
  },
  {
   "cell_type": "code",
   "execution_count": 16,
   "id": "9d21c0f6",
   "metadata": {},
   "outputs": [
    {
     "name": "stdout",
     "output_type": "stream",
     "text": [
      "['I', ' ', 'l', 'o', 'v', 'e', ' ', 'y', 'o', 'u']\n",
      "I l veoyou\n"
     ]
    }
   ],
   "source": [
    "my_string =\"I love you\"\n",
    "num1=3\n",
    "num2=6\n",
    "\n",
    "my_list = list(my_string)\n",
    "print(my_list)\n",
    "\n",
    "my_list[num1],my_list[num2] =my_list[num2],my_list[num1]\n",
    "\n",
    "d=\"\"\n",
    "my_list=d.join(my_list)\n",
    "print(my_list)"
   ]
  }
 ],
 "metadata": {
  "kernelspec": {
   "display_name": "Python 3",
   "language": "python",
   "name": "python3"
  },
  "language_info": {
   "codemirror_mode": {
    "name": "ipython",
    "version": 3
   },
   "file_extension": ".py",
   "mimetype": "text/x-python",
   "name": "python",
   "nbconvert_exporter": "python",
   "pygments_lexer": "ipython3",
   "version": "3.13.9"
  }
 },
 "nbformat": 4,
 "nbformat_minor": 5
}
