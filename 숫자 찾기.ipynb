{
 "cells": [
  {
   "cell_type": "markdown",
   "id": "24edfd96",
   "metadata": {},
   "source": [
    "# 프로그래머스 | Level 0 | Python 3 | 숫자 찾기\n",
    "## 문제\n",
    "정수 num과 k가 매개변수로 주어질 때, num을 이루는 숫자 중에 k가 있으면 num의 그 숫자가 있는 자리 수를 return하고 없으면 -1을 return 하도록 solution 함수를 완성해보세요.\n",
    "\n",
    "\n",
    "### 제한사항\n",
    "- 0 < num < 1,000,000\n",
    "- 0 ≤ k < 10\n",
    "- num에 k가 여러 개 있으면 가장 처음 나타나는 자리를 return 합니다."
   ]
  },
  {
   "cell_type": "code",
   "execution_count": 11,
   "id": "813c345a",
   "metadata": {},
   "outputs": [
    {
     "name": "stdout",
     "output_type": "stream",
     "text": [
      "2\n"
     ]
    }
   ],
   "source": [
    "num=29183\n",
    "k=9\n",
    "if str(num).find(str(k)) == -1:\n",
    "  answer = -1\n",
    "else :\n",
    "  answer=str(num).find(str(k))+1\n",
    "\n",
    "print(answer)\n"
   ]
  },
  {
   "cell_type": "code",
   "execution_count": null,
   "id": "07b6727f",
   "metadata": {},
   "outputs": [],
   "source": [
    "def solution(num, k):\n",
    "    if str(num).find(str(k)) == -1:\n",
    "        answer = -1\n",
    "    else :\n",
    "        answer=str(num).find(str(k))+1\n",
    "    return answer"
   ]
  }
 ],
 "metadata": {
  "kernelspec": {
   "display_name": "Python 3",
   "language": "python",
   "name": "python3"
  },
  "language_info": {
   "codemirror_mode": {
    "name": "ipython",
    "version": 3
   },
   "file_extension": ".py",
   "mimetype": "text/x-python",
   "name": "python",
   "nbconvert_exporter": "python",
   "pygments_lexer": "ipython3",
   "version": "3.13.9"
  }
 },
 "nbformat": 4,
 "nbformat_minor": 5
}
