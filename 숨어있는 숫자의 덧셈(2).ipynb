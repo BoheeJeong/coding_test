{
 "cells": [
  {
   "cell_type": "markdown",
   "id": "a8ef91c4",
   "metadata": {},
   "source": [
    "# 프로그래머스 | Level 0 | Python 3 | 배열 원소의 길이\n",
    "## 문제\n",
    "문자열 my_string이 매개변수로 주어집니다. my_string은 소문자, 대문자, 자연수로만 구성되어있습니다. my_string안의 자연수들의 합을 return하도록 solution 함수를 완성해주세요.\n",
    "### 제한사항\n",
    "- 1 ≤ my_string의 길이 ≤ 1,000\n",
    "- 1 ≤ my_string 안의 자연수 ≤ 1000\n",
    "- 연속된 수는 하나의 숫자로 간주합니다.\n",
    "- 000123과 같이 0이 선행하는 경우는 없습니다.\n",
    "- 문자열에 자연수가 없는 경우 0을 return 해주세요."
   ]
  },
  {
   "cell_type": "code",
   "execution_count": 8,
   "id": "2738a7cf",
   "metadata": {},
   "outputs": [
    {
     "name": "stdout",
     "output_type": "stream",
     "text": [
      "1\n",
      "2\n",
      "3\n",
      "4\n",
      "34\n"
     ]
    }
   ],
   "source": [
    "my_string =\"aAb1B2cC34oOp\"\n",
    "my_string.lower()\n",
    "\n",
    "a=[]\n",
    "for i in range(1,1001):\n",
    "  if str(i) in my_string:\n",
    "    print(i)\n",
    "\n",
    "\n"
   ]
  }
 ],
 "metadata": {
  "kernelspec": {
   "display_name": "Python 3",
   "language": "python",
   "name": "python3"
  },
  "language_info": {
   "codemirror_mode": {
    "name": "ipython",
    "version": 3
   },
   "file_extension": ".py",
   "mimetype": "text/x-python",
   "name": "python",
   "nbconvert_exporter": "python",
   "pygments_lexer": "ipython3",
   "version": "3.13.9"
  }
 },
 "nbformat": 4,
 "nbformat_minor": 5
}
