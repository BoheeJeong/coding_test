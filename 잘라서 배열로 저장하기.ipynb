{
 "cells": [
  {
   "cell_type": "markdown",
   "id": "2ad4f9da",
   "metadata": {},
   "source": [
    "# 프로그래머스 | Level 0 | Python 3 | 잘라서 배열로 저장하기\n",
    "## 문제\n",
    "문자열 my_str과 n이 매개변수로 주어질 때, my_str을 길이 n씩 잘라서 저장한 배열을 return하도록 solution 함수를 완성해주세요.\n",
    "\n",
    "### 제한사항\n",
    "- 1 ≤ my_str의 길이 ≤ 100\n",
    "- 1 ≤ n ≤ my_str의 길이\n",
    "- my_str은 알파벳 소문자, 대문자, 숫자로 이루어져 있습니다."
   ]
  },
  {
   "cell_type": "code",
   "execution_count": 1,
   "id": "94dde82e",
   "metadata": {},
   "outputs": [
    {
     "name": "stdout",
     "output_type": "stream",
     "text": [
      "['123', '123', '123']\n"
     ]
    }
   ],
   "source": [
    "#반례\n",
    "my_str =\"1231231231\"\n",
    "n=3\n",
    "\n",
    "a=0\n",
    "b=n\n",
    "result_list =[]\n",
    "for i in range(0,round(len(my_str)/n)):\n",
    "  slicing=my_str[a:b]\n",
    "  a+=n\n",
    "  b+=n\n",
    "  result_list.append(slicing)\n",
    "\n",
    "print(result_list)\n"
   ]
  },
  {
   "cell_type": "code",
   "execution_count": null,
   "id": "e4418411",
   "metadata": {},
   "outputs": [],
   "source": []
  }
 ],
 "metadata": {
  "kernelspec": {
   "display_name": "Python 3",
   "language": "python",
   "name": "python3"
  },
  "language_info": {
   "codemirror_mode": {
    "name": "ipython",
    "version": 3
   },
   "file_extension": ".py",
   "mimetype": "text/x-python",
   "name": "python",
   "nbconvert_exporter": "python",
   "pygments_lexer": "ipython3",
   "version": "3.13.9"
  }
 },
 "nbformat": 4,
 "nbformat_minor": 5
}
