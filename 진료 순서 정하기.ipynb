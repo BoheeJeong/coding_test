{
 "cells": [
  {
   "cell_type": "markdown",
   "id": "28fe68de",
   "metadata": {},
   "source": [
    "# 프로그래머스 | Level 0 | Python 3 | 진료 순서 정하기\n",
    "## 문제\n",
    "외과의사 머쓱이는 응급실에 온 환자의 응급도를 기준으로 진료 순서를 정하려고 합니다. 정수 배열 emergency가 매개변수로 주어질 때 응급도가 높은 순서대로 진료 순서를 정한 배열을 return하도록 solution 함수를 완성해주세요.\n",
    "\n",
    "### 제한사항\n",
    "- 중복된 원소는 없습니다.\n",
    "- 1 ≤ emergency의 길이 ≤ 10\n",
    "- 1 ≤ emergency의 원소 ≤ 100"
   ]
  },
  {
   "cell_type": "code",
   "execution_count": 6,
   "id": "f64b2fe9",
   "metadata": {},
   "outputs": [
    {
     "name": "stdout",
     "output_type": "stream",
     "text": [
      "[30, 10, 23, 6, 100]\n",
      "[100, 30, 23, 10, 6]\n",
      "30\n",
      "10\n",
      "23\n",
      "6\n",
      "100\n"
     ]
    }
   ],
   "source": [
    "emergency =[30, 10, 23, 6, 100]\n",
    "print(emergency)\n",
    "\n",
    "ranking= sorted(emergency,reverse=\"True\")\n",
    "print(ranking)\n",
    "\n",
    "\n",
    "for i in emergency:\n",
    "  print(i)\n"
   ]
  }
 ],
 "metadata": {
  "kernelspec": {
   "display_name": "Python 3",
   "language": "python",
   "name": "python3"
  },
  "language_info": {
   "codemirror_mode": {
    "name": "ipython",
    "version": 3
   },
   "file_extension": ".py",
   "mimetype": "text/x-python",
   "name": "python",
   "nbconvert_exporter": "python",
   "pygments_lexer": "ipython3",
   "version": "3.13.9"
  }
 },
 "nbformat": 4,
 "nbformat_minor": 5
}
