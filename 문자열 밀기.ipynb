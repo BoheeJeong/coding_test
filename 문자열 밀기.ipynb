{
 "cells": [
  {
   "cell_type": "markdown",
   "id": "b7e12de3",
   "metadata": {},
   "source": [
    "# 프로그래머스 | Level 0 | Python 3 | 문자열 밀기\n",
    "## 문제\n",
    "문자열 \"hello\"에서 각 문자를 오른쪽으로 한 칸씩 밀고 마지막 문자는 맨 앞으로 이동시키면 \"ohell\"이 됩니다. 이것을 문자열을 민다고 정의한다면 문자열 A와 B가 매개변수로 주어질 때, A를 밀어서 B가 될 수 있다면 밀어야 하는 최소 횟수를 return하고 밀어서 B가 될 수 없으면 -1을 return 하도록 solution 함수를 완성해보세요.\n",
    "\n",
    "### 제한사항\n",
    "- 0 < A의 길이 = B의 길이 < 100\n",
    "- A, B는 알파벳 소문자로 이루어져 있습니다."
   ]
  },
  {
   "cell_type": "code",
   "execution_count": 3,
   "id": "62cc2791",
   "metadata": {},
   "outputs": [
    {
     "name": "stdout",
     "output_type": "stream",
     "text": [
      "ohellohell\n",
      "1\n"
     ]
    }
   ],
   "source": [
    "A='hello'\n",
    "B=\"ohell\"\n",
    "\n",
    "\n",
    "c=B*2\n",
    "print(c)\n",
    "if A in c:\n",
    "  answer =1\n",
    "else :\n",
    "  answer = -1\n",
    "\n",
    "print(answer)"
   ]
  },
  {
   "cell_type": "code",
   "execution_count": 4,
   "id": "a7c97bfd",
   "metadata": {},
   "outputs": [],
   "source": [
    "def solution(A, B):\n",
    "    c=B*2\n",
    "    print(c)\n",
    "    if A in c:\n",
    "        return c.find(A) \n",
    "    else :\n",
    "        return -1\n"
   ]
  }
 ],
 "metadata": {
  "kernelspec": {
   "display_name": "Python 3",
   "language": "python",
   "name": "python3"
  },
  "language_info": {
   "codemirror_mode": {
    "name": "ipython",
    "version": 3
   },
   "file_extension": ".py",
   "mimetype": "text/x-python",
   "name": "python",
   "nbconvert_exporter": "python",
   "pygments_lexer": "ipython3",
   "version": "3.13.9"
  }
 },
 "nbformat": 4,
 "nbformat_minor": 5
}
