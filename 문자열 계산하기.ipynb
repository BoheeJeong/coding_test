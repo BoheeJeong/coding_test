{
 "cells": [
  {
   "cell_type": "markdown",
   "id": "e23d850a",
   "metadata": {},
   "source": [
    "# 프로그래머스 | Level 0 | Python 3 | 모음 제거\n",
    "## 문제\n",
    "my_string은 \"3 + 5\"처럼 문자열로 된 수식입니다. 문자열 my_string이 매개변수로 주어질 때, 수식을 계산한 값을 return 하는 solution 함수를 완성해주세요.\n",
    "\n"
   ]
  },
  {
   "cell_type": "code",
   "execution_count": null,
   "id": "dad73f36",
   "metadata": {},
   "outputs": [
    {
     "name": "stdout",
     "output_type": "stream",
     "text": [
      "['300', '+', '453', '-', '1', '+', '1']\n",
      "754\n",
      "1\n",
      "753\n"
     ]
    }
   ],
   "source": [
    "my_string =\"300 + 453 - 1 + 1\"\n",
    "a=my_string.split(\" \")\n",
    "\n",
    "print(a)\n",
    "a.insert(0,\"+\")\n",
    "\n",
    "\n",
    "minus=[]\n",
    "plus=[]\n",
    "\n",
    "for i,item in enumerate(a):\n",
    "  if item == \"+\":\n",
    "    plus.append((str(a[i+1])))\n",
    "\n",
    "  if item == \"-\":\n",
    "    minus.append(a[i+1])\n",
    "\n",
    "plus_sum=0\n",
    "for v in plus:\n",
    "  plus_sum+=int(v)\n",
    "\n",
    "minus_sum=0\n",
    "for p in minus:\n",
    "  minus_sum+=int(p)\n",
    "\n",
    "\n",
    "print(plus_sum)\n",
    "print(minus_sum)\n",
    "print(plus_sum-minus_sum)\n",
    "\n",
    "\n",
    "\n"
   ]
  }
 ],
 "metadata": {
  "kernelspec": {
   "display_name": "Python 3",
   "language": "python",
   "name": "python3"
  },
  "language_info": {
   "codemirror_mode": {
    "name": "ipython",
    "version": 3
   },
   "file_extension": ".py",
   "mimetype": "text/x-python",
   "name": "python",
   "nbconvert_exporter": "python",
   "pygments_lexer": "ipython3",
   "version": "3.13.9"
  }
 },
 "nbformat": 4,
 "nbformat_minor": 5
}
