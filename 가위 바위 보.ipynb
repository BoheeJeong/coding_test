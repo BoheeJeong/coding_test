{
 "cells": [
  {
   "cell_type": "markdown",
   "id": "6b64ff97",
   "metadata": {},
   "source": [
    "# 프로그래머스 | Level 0 | Python 3 | 가위 바위 보\n",
    "## 문제\n",
    "가위는 2 바위는 0 보는 5로 표현합니다. 가위 바위 보를 내는 순서대로 나타낸 문자열 rsp가 매개변수로 주어질 때, rsp에 저장된 가위 바위 보를 모두 이기는 경우를 순서대로 나타낸 문자열을 return하도록 solution 함수를 완성해보세요.\n",
    "\n",
    "\n",
    "### 제한사항\n",
    "- 0 < rsp의 길이 ≤ 100\n",
    "- rsp와 길이가 같은 문자열을 return 합니다.\n",
    "- rsp는 숫자 0, 2, 5로 이루어져 있습니다.\n"
   ]
  },
  {
   "cell_type": "markdown",
   "id": "a16b9d11",
   "metadata": {},
   "source": [
    "### 틀렸던 코드\n",
    "rsp 가 20502 가 되자 사용 불가"
   ]
  },
  {
   "cell_type": "code",
   "execution_count": 39,
   "id": "edea4c4e",
   "metadata": {},
   "outputs": [],
   "source": [
    "\n",
    "def solution(rsp):\n",
    "    rsp_winning = {2:0,0:5,5:2}\n",
    "    a=\"\"\n",
    "    for i in rsp:\n",
    "        b=str(rsp_winning[int(i)])\n",
    "        a+=b\n",
    "\n",
    "\n",
    "    return a"
   ]
  }
 ],
 "metadata": {
  "kernelspec": {
   "display_name": "Python 3",
   "language": "python",
   "name": "python3"
  },
  "language_info": {
   "codemirror_mode": {
    "name": "ipython",
    "version": 3
   },
   "file_extension": ".py",
   "mimetype": "text/x-python",
   "name": "python",
   "nbconvert_exporter": "python",
   "pygments_lexer": "ipython3",
   "version": "3.13.9"
  }
 },
 "nbformat": 4,
 "nbformat_minor": 5
}
