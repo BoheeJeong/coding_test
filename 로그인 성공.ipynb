{
 "cells": [
  {
   "cell_type": "markdown",
   "id": "d23f09d4",
   "metadata": {},
   "source": [
    "# 프로그래머스 | Level 0 | Python 3 | 로그인 성공?\n",
    "## 문제\n",
    "머쓱이는 프로그래머스에 로그인하려고 합니다. \n",
    "머쓱이가 입력한 아이디와 패스워드가 담긴 배열 id_pw와 회원들의 정보가 담긴 2차원 배열 db가 주어질 때, \n",
    "다음과 같이 로그인 성공, 실패에 따른 메시지를 return하도록 solution 함수를 완성해주세요.\n",
    "\n",
    "아이디와 비밀번호가 모두 일치하는 회원정보가 있으면 \"login\"을 return합니다.\n",
    "로그인이 실패했을 때 아이디가 일치하는 회원이 없다면 “fail”를, 아이디는 일치하지만 \n",
    "비밀번호가 일치하는 회원이 없다면 “wrong pw”를 return 합니다.\n",
    "\n",
    "\n",
    "### 제한사항\n",
    "회원들의 아이디는 문자열입니다.\n",
    "회원들의 아이디는 알파벳 소문자와 숫자로만 이루어져 있습니다.\n",
    "회원들의 패스워드는 숫자로 구성된 문자열입니다.\n",
    "회원들의 비밀번호는 같을 수 있지만 아이디는 같을 수 없습니다.\n",
    "id_pw의 길이는 2입니다.\n",
    "id_pw와 db의 원소는 [아이디, 패스워드] 형태입니다.\n",
    "1 ≤ 아이디의 길이 ≤ 15\n",
    "1 ≤ 비밀번호의 길이 ≤ 6\n",
    "1 ≤ db의 길이 ≤ 10\n",
    "db의 원소의 길이는 2입니다.\n"
   ]
  },
  {
   "cell_type": "markdown",
   "id": "10d783b4",
   "metadata": {},
   "source": [
    "### 틀렸던 코드1\n",
    "해당 제한 조건 고려 필요: 회원들의 비밀번호는 같을 수 있지만 아이디는 같을 수 없습니다.\n"
   ]
  },
  {
   "cell_type": "code",
   "execution_count": 11,
   "id": "9fe9d82d",
   "metadata": {},
   "outputs": [
    {
     "name": "stdout",
     "output_type": "stream",
     "text": [
      "['abc04', 'abc04', 'abc03']\n",
      "['345', '335', '345']\n",
      "login\n"
     ]
    }
   ],
   "source": [
    "id_pw =[\"abc04\", \"345\"]\n",
    "db = [[\"abc04\", \"345\"], [\"abc04\", \"335\"], [\"abc03\", \"345\"]]   #db 에 같은 아이디가 존재하는데도 login 이라고 잘못된 결과가 나옴\n",
    "\n",
    "db_ids =[]\n",
    "db_pws=[]\n",
    "\n",
    "for i in range(0,len(db)):\n",
    "  db_ids.append(db[i][0])\n",
    "print(db_ids)\n",
    "\n",
    "for v in range(0,len(db)):\n",
    "  db_pws.append(db[v][1])\n",
    "print(db_pws)\n",
    "\n",
    "\n",
    "if id_pw in db: #아이디와 패스워드 리스트가 모두 db 리스트 안에 있을때\n",
    "  answer ='login'\n",
    "\n",
    "elif id_pw[0] in db_ids and id_pw[1] not in db_pws :   #db 리스트에 아이디는 있는데 비밀번호는 없을 때\n",
    "  answer=\"wrong pw\" \n",
    "\n",
    "elif id_pw[0] not in db_ids :   #db 리스트에 아이디는 일치하지 않을 때\n",
    "  answer= \"fail\"\n",
    "\n",
    "print(answer)"
   ]
  },
  {
   "cell_type": "code",
   "execution_count": null,
   "id": "9a7caa50",
   "metadata": {},
   "outputs": [
    {
     "name": "stdout",
     "output_type": "stream",
     "text": [
      "fail\n"
     ]
    }
   ],
   "source": [
    "\n",
    "# 아이디와 비밀번호가 모두 일치하는 회원정보가 있으면 \"login\"을 return합니다.\n",
    "# 로그인이 실패했을 때 아이디가 일치하는 회원이 없다면 “fail”를, 아이디는 일치하지만 \n",
    "# 비밀번호가 일치하는 회원이 없다면 “wrong pw”를 return 합니다.\n",
    "\n",
    "id_pw =[\"abc04\", \"345\"]\n",
    "db = [[\"abc04\", \"345\"], [\"abc04\", \"335\"], [\"abc03\", \"345\"]] \n",
    "\n",
    "answer=\"fail\"\n",
    "\n",
    "for i in range(0,len(db)):\n",
    "  if id_pw[0]==db[i][0] and id_pw[1]==db[i][1]:\n",
    "    answer='login'\n",
    "\n",
    "  elif id_pw[0]==db[i][0] and id_pw[1] !=db[i][1]:\n",
    "    answer=\"wrong pw\"\n",
    "\n",
    "  else:\n",
    "    answer='fail'\n",
    "\n",
    "print(answer)\n",
    "\n"
   ]
  },
  {
   "cell_type": "code",
   "execution_count": null,
   "id": "adc0aaa8",
   "metadata": {},
   "outputs": [],
   "source": [
    "answer=\"fail\"\n",
    "def solution(id_pw, db):\n",
    "    for i in range(0,len(db)):\n",
    "        if id_pw[0]==db[i][0] and id_pw[1]==db[i][1]:\n",
    "            answer='login'\n",
    "        elif id_pw[0]==db[i][0] and id_pw[1] !=db[i][1]:\n",
    "            answer=\"wrong pw\"           \n",
    "        else:\n",
    "            answer='fail'\n",
    "    return answer"
   ]
  }
 ],
 "metadata": {
  "kernelspec": {
   "display_name": "Python 3",
   "language": "python",
   "name": "python3"
  },
  "language_info": {
   "codemirror_mode": {
    "name": "ipython",
    "version": 3
   },
   "file_extension": ".py",
   "mimetype": "text/x-python",
   "name": "python",
   "nbconvert_exporter": "python",
   "pygments_lexer": "ipython3",
   "version": "3.13.9"
  }
 },
 "nbformat": 4,
 "nbformat_minor": 5
}
