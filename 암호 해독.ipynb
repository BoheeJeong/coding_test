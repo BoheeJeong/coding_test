{
 "cells": [
  {
   "cell_type": "markdown",
   "id": "aa5679bb",
   "metadata": {},
   "source": [
    "# 프로그래머스 | Level 0 | Python 3 | 암호 해독\n",
    "## 문제\n",
    "군 전략가 머쓱이는 전쟁 중 적군이 다음과 같은 암호 체계를 사용한다는 것을 알아냈습니다.\n",
    "\n",
    "암호화된 문자열 cipher를 주고받습니다.\n",
    "그 문자열에서 code의 배수 번째 글자만 진짜 암호입니다.\n",
    "문자열 cipher와 정수 code가 매개변수로 주어질 때 해독된 암호 문자열을 return하도록 solution 함수를 완성해주세요.\n",
    "\n",
    "### 제한사항\n",
    "- 1 ≤ cipher의 길이 ≤ 1,000\n",
    "- 1 ≤ code ≤ cipher의 길이\n",
    "- cipher는 소문자와 공백으로만 구성되어 있습니다.\n",
    "- 공백도 하나의 문자로 취급합니다."
   ]
  },
  {
   "cell_type": "code",
   "execution_count": 35,
   "id": "30f212d2",
   "metadata": {},
   "outputs": [
    {
     "name": "stdout",
     "output_type": "stream",
     "text": [
      "a\n",
      "t\n",
      "t\n",
      "a\n",
      "c\n",
      "k\n",
      "attack\n"
     ]
    }
   ],
   "source": [
    "cipher = \"dfjardstddetckdaccccdegk\"\n",
    "code = 4\n",
    "\n",
    "a=\"\"\n",
    "for i,letter in enumerate(cipher):\n",
    "  #print(i+1,letter)\n",
    "  \n",
    "  if (i+1) % code == 0:\n",
    "    print(letter)\n",
    "    a+=letter\n",
    "print(a)\n"
   ]
  }
 ],
 "metadata": {
  "kernelspec": {
   "display_name": "Python 3",
   "language": "python",
   "name": "python3"
  },
  "language_info": {
   "codemirror_mode": {
    "name": "ipython",
    "version": 3
   },
   "file_extension": ".py",
   "mimetype": "text/x-python",
   "name": "python",
   "nbconvert_exporter": "python",
   "pygments_lexer": "ipython3",
   "version": "3.13.9"
  }
 },
 "nbformat": 4,
 "nbformat_minor": 5
}
