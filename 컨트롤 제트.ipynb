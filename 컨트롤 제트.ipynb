{
 "cells": [
  {
   "cell_type": "markdown",
   "id": "5e5d3037",
   "metadata": {},
   "source": [
    "# 프로그래머스 | Level 0 | Python 3 | 컨트롤 제트\n",
    "## 문제\n",
    "숫자와 \"Z\"가 공백으로 구분되어 담긴 문자열이 주어집니다. 문자열에 있는 숫자를 차례대로 더하려고 합니다. 이 때 \"Z\"가 나오면 바로 전에 더했던 숫자를 뺀다는 뜻입니다. 숫자와 \"Z\"로 이루어진 문자열 s가 주어질 때, 머쓱이가 구한 값을 return 하도록 solution 함수를 완성해보세요.\n",
    "### 제한사항\n",
    "- ≤ s의 길이 ≤ 200\n",
    "- -1,000 < s의 원소 중 숫자 < 1,000\n",
    "- s는 숫자, \"Z\", 공백으로 이루어져 있습니다.\n",
    "- s에 있는 숫자와 \"Z\"는 서로 공백으로 구분됩니다.\n",
    "- 연속된 공백은 주어지지 않습니다.\n",
    "- 0을 제외하고는 0으로 시작하는 숫자는 없습니다.\n",
    "- s는 \"Z\"로 시작하지 않습니다.\n",
    "- s의 시작과 끝에는 공백이 없습니다.\n",
    "- \"Z\"가 연속해서 나오는 경우는 없습니다."
   ]
  },
  {
   "cell_type": "code",
   "execution_count": 21,
   "id": "9f113d62",
   "metadata": {},
   "outputs": [
    {
     "name": "stdout",
     "output_type": "stream",
     "text": [
      "30\n"
     ]
    }
   ],
   "source": [
    "s=\"10 Z 20 Z\"\n",
    "zero_replaced=s.replace (\"Z\",\"0\")\n",
    "sum_total=zero_replaced.split(\" \")\n",
    "\n",
    "numbers =[]\n",
    "for i in sum_total:\n",
    "  a=int(i)\n",
    "\n",
    "  numbers.append(a)\n",
    "\n",
    "sum_total=sum(numbers)\n",
    "print(sum_total)\n",
    "\n",
    "\n",
    "\n"
   ]
  },
  {
   "cell_type": "code",
   "execution_count": null,
   "id": "4b464661",
   "metadata": {},
   "outputs": [
    {
     "name": "stdout",
     "output_type": "stream",
     "text": [
      "['10', 'Z', '20', 'Z']\n",
      "[]\n"
     ]
    }
   ],
   "source": [
    "s=\"10 Z 20 Z\"\n",
    "a=s.split(\" \")\n",
    "print(a)\n",
    "\n",
    "\n",
    "v=[]\n",
    "for i in a:\n",
    "  if i == \"Z\":\n",
    "    v.pop()\n",
    "\n",
    "  else :\n",
    "    v.append(int(i))\n",
    "\n",
    "print(v)\n",
    "sum(v)\n",
    "\n"
   ]
  }
 ],
 "metadata": {
  "kernelspec": {
   "display_name": "Python 3",
   "language": "python",
   "name": "python3"
  },
  "language_info": {
   "codemirror_mode": {
    "name": "ipython",
    "version": 3
   },
   "file_extension": ".py",
   "mimetype": "text/x-python",
   "name": "python",
   "nbconvert_exporter": "python",
   "pygments_lexer": "ipython3",
   "version": "3.13.9"
  }
 },
 "nbformat": 4,
 "nbformat_minor": 5
}
