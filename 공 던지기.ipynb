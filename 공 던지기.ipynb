{
 "cells": [
  {
   "cell_type": "markdown",
   "id": "9b32e9d2",
   "metadata": {},
   "source": [
    "# 프로그래머스 | Level 0 | Python 3 | 가까운 수\n",
    "## 문제\n",
    "머쓱이는 친구들과 동그랗게 서서 공 던지기 게임을 하고 있습니다. 공은 1번부터 던지며 오른쪽으로 한 명을 건너뛰고 그다음 사람에게만 던질 수 있습니다. 친구들의 번호가 들어있는 정수 배열 numbers와 정수 K가 주어질 때, k번째로 공을 던지는 사람의 번호는 무엇인지 return 하도록 solution 함수를 완성해보세요.\n",
    "\n",
    "\n",
    "### 제한사항\n",
    "- 2 < numbers의 길이 < 100\n",
    "- 0 < k < 1,000\n",
    "- numbers의 첫 번째와 마지막 번호는 실제로 바로 옆에 있습니다.\n",
    "- numbers는 1부터 시작하며 번호는 순서대로 올라갑니다."
   ]
  },
  {
   "cell_type": "code",
   "execution_count": 9,
   "id": "8c9a6cb0",
   "metadata": {},
   "outputs": [
    {
     "name": "stdout",
     "output_type": "stream",
     "text": [
      "[1, 2, 3, 1, 2, 3, 1, 2, 3]\n",
      "1\n",
      "3\n",
      "2\n",
      "1\n",
      "3\n",
      "[1, 3, 2, 1, 3]\n",
      "2\n"
     ]
    }
   ],
   "source": [
    "numbers=[1,2,3]\n",
    "k=3\n",
    "\n",
    "added_numbers = numbers*n\n",
    "print(added_numbers)\n",
    "\n",
    "a=0\n",
    "picked_list=[]\n",
    "while a< len(added_numbers):\n",
    "  print(added_numbers[a])\n",
    "  picked_list.append(added_numbers[a])\n",
    "  a+=2\n",
    "\n",
    "print(picked_list)\n",
    "print(picked_list[k-1])\n"
   ]
  },
  {
   "cell_type": "code",
   "execution_count": null,
   "id": "42fb76d6",
   "metadata": {},
   "outputs": [],
   "source": [
    "def solution(numbers, k):\n",
    "    added_numbers = numbers*k\n",
    "\n",
    "    a=0\n",
    "    picked_list=[]\n",
    "    while a< len(added_numbers):\n",
    "        print(added_numbers[a])\n",
    "        picked_list.append(added_numbers[a])\n",
    "        a+=2\n",
    "\n",
    "    answer=picked_list[k-1]\n",
    "    return answer\n"
   ]
  }
 ],
 "metadata": {
  "kernelspec": {
   "display_name": "Python 3",
   "language": "python",
   "name": "python3"
  },
  "language_info": {
   "codemirror_mode": {
    "name": "ipython",
    "version": 3
   },
   "file_extension": ".py",
   "mimetype": "text/x-python",
   "name": "python",
   "nbconvert_exporter": "python",
   "pygments_lexer": "ipython3",
   "version": "3.13.9"
  }
 },
 "nbformat": 4,
 "nbformat_minor": 5
}
