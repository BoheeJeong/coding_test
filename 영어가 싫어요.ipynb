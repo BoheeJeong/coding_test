{
 "cells": [
  {
   "cell_type": "markdown",
   "id": "e2efcf98",
   "metadata": {},
   "source": [
    "# 프로그래머스 | Level 0 | Python 3 | 영어가 싫어요\n",
    "## 문제\n",
    "영어가 싫은 머쓱이는 영어로 표기되어있는 숫자를 수로 바꾸려고 합니다. 문자열 numbers가 매개변수로 주어질 때, numbers를 정수로 바꿔 return 하도록 solution 함수를 완성해 주세요.\n",
    "\n",
    "### 제한사항\n",
    "- numbers는 소문자로만 구성되어 있습니다.\n",
    "- numbers는 \"zero\", \"one\", \"two\", \"three\", \"four\", \"five\", \"six\", \"seven\", \"eight\", \"nine\" 들이 공백 없이 조합되어 있습니다.\n",
    "- 1 ≤ numbers의 길이 ≤ 50\n",
    "- \"zero\"는 numbers의 맨 앞에 올 수 없습니다."
   ]
  },
  {
   "cell_type": "code",
   "execution_count": 37,
   "id": "637bae0d",
   "metadata": {},
   "outputs": [
    {
     "name": "stdout",
     "output_type": "stream",
     "text": [
      "0 zero\n",
      "1 one\n",
      "2 two\n",
      "3 three\n",
      "4 four\n",
      "5 five\n",
      "6 six\n",
      "7 seven\n",
      "8 eight\n",
      "9 nine\n",
      "123456789\n"
     ]
    }
   ],
   "source": [
    "numbers=\"onetwothreefourfivesixseveneightnine\"\n",
    "\n",
    "number_dict = [\"zero\",\"one\",\"two\",\"three\",\"four\",\"five\",\"six\",\"seven\",\"eight\",\"nine\"]\n",
    "\n",
    "\n",
    "for i,item in enumerate(number_dict):\n",
    "  print(i,item)\n",
    "  numbers=numbers.replace(item,str(i))\n",
    "print(numbers)\n",
    "\n"
   ]
  },
  {
   "cell_type": "code",
   "execution_count": null,
   "id": "6c4bd768",
   "metadata": {},
   "outputs": [],
   "source": [
    "def solution(numbers):\n",
    "    number_dict = [\"zero\",\"one\",\"two\",\"three\",\"four\",\"five\",\"six\",\"seven\",\"eight\",\"nine\"]\n",
    "\n",
    "\n",
    "    for i,item in enumerate(number_dict):\n",
    "\n",
    "        numbers=numbers.replace(item,str(i))\n",
    "    answer=int(numbers)\n",
    "    return answer"
   ]
  }
 ],
 "metadata": {
  "kernelspec": {
   "display_name": "Python 3",
   "language": "python",
   "name": "python3"
  },
  "language_info": {
   "codemirror_mode": {
    "name": "ipython",
    "version": 3
   },
   "file_extension": ".py",
   "mimetype": "text/x-python",
   "name": "python",
   "nbconvert_exporter": "python",
   "pygments_lexer": "ipython3",
   "version": "3.13.9"
  }
 },
 "nbformat": 4,
 "nbformat_minor": 5
}
