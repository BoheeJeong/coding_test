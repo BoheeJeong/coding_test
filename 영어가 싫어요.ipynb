{
 "cells": [
  {
   "cell_type": "markdown",
   "id": "96aa6da3",
   "metadata": {},
   "source": [
    "# 프로그래머스 | Level 0 | Python 3 | 영어가 싫어요\n",
    "## 문제\n",
    "영어가 싫은 머쓱이는 영어로 표기되어있는 숫자를 수로 바꾸려고 합니다. 문자열 numbers가 매개변수로 주어질 때, numbers를 정수로 바꿔 return 하도록 solution 함수를 완성해 주세요.\n",
    "\n",
    "### 제한사항\n",
    "- numbers는 소문자로만 구성되어 있습니다.\n",
    "- numbers는 \"zero\", \"one\", \"two\", \"three\", \"four\", \"five\", \"six\", \"seven\", \"eight\", \"nine\" 들이 공백 없이 조합되어 있습니다.\n",
    "- 1 ≤ numbers의 길이 ≤ 50\n",
    "- \"zero\"는 numbers의 맨 앞에 올 수 없습니다."
   ]
  },
  {
   "cell_type": "code",
   "execution_count": 30,
   "id": "9e43a64e",
   "metadata": {},
   "outputs": [
    {
     "name": "stdout",
     "output_type": "stream",
     "text": [
      "0 zero\n"
     ]
    },
    {
     "ename": "KeyError",
     "evalue": "0",
     "output_type": "error",
     "traceback": [
      "\u001b[31m---------------------------------------------------------------------------\u001b[39m",
      "\u001b[31mKeyError\u001b[39m                                  Traceback (most recent call last)",
      "\u001b[36mCell\u001b[39m\u001b[36m \u001b[39m\u001b[32mIn[30]\u001b[39m\u001b[32m, line 14\u001b[39m\n\u001b[32m     11\u001b[39m \u001b[38;5;28;01mfor\u001b[39;00m v,item \u001b[38;5;129;01min\u001b[39;00m \u001b[38;5;28menumerate\u001b[39m(num_list):\n\u001b[32m     12\u001b[39m   \u001b[38;5;28mprint\u001b[39m(v,item)\n\u001b[32m---> \u001b[39m\u001b[32m14\u001b[39m   numbers.replace(\u001b[43mnumber_dict\u001b[49m\u001b[43m[\u001b[49m\u001b[32;43m0\u001b[39;49m\u001b[43m]\u001b[49m,number_dict[\u001b[32m1\u001b[39m])\n\u001b[32m     15\u001b[39m   \u001b[38;5;28mprint\u001b[39m(numbers)\n\u001b[32m     17\u001b[39m \u001b[38;5;66;03m#   b=numbers.find(num_list[v])\u001b[39;00m\n\u001b[32m     18\u001b[39m \u001b[38;5;66;03m# print(item.count(num_list[v]))\u001b[39;00m\n\u001b[32m     19\u001b[39m \u001b[38;5;66;03m# print(b)\u001b[39;00m\n",
      "\u001b[31mKeyError\u001b[39m: 0"
     ]
    }
   ],
   "source": [
    "numbers=\"onetwothreefourfivesixseveneightnine\"\n",
    "\n",
    "num_list=[\"zero\",\"one\",\"two\",\"three\",\"four\",\"five\",\"six\",\"seven\",\"eight\",\"nine\"]\n",
    "number_dict = {\n",
    "        \"zero\": '0', \"one\": '1', \"two\": '2', \"three\": '3', \"four\": '4',\n",
    "        \"five\": '5', \"six\": '6', \"seven\": '7', \"eight\": '8', \"nine\": '9'\n",
    "    }\n",
    "\n",
    "\n",
    "\n",
    "for v,item in enumerate(num_list):\n",
    "  print(v,item)\n",
    "  \n",
    "  numbers.replace(number_dict[0],number_dict[1])\n",
    "  print(numbers)\n",
    "\n",
    "#   b=numbers.find(num_list[v])\n",
    "# print(item.count(num_list[v]))\n",
    "# print(b)\n"
   ]
  },
  {
   "cell_type": "code",
   "execution_count": null,
   "id": "c61bae0a",
   "metadata": {},
   "outputs": [],
   "source": [
    "\n",
    "numbers=\"onetwothreefourfivesixseveneightnine\"\n",
    "\n",
    "def solution(numbers):\n",
    "    number_dict = {\n",
    "        \"zero\": '0', \"one\": '1', \"two\": '2', \"three\": '3', \"four\": '4',\n",
    "        \"five\": '5', \"six\": '6', \"seven\": '7', \"eight\": '8', \"nine\": '9'\n",
    "    }\n",
    "\n",
    "    for key, val in number_dict.items():\n",
    "        numbers = numbers.replace(key, val)\n",
    "\n",
    "    return int(numbers)"
   ]
  }
 ],
 "metadata": {
  "kernelspec": {
   "display_name": "Python 3",
   "language": "python",
   "name": "python3"
  },
  "language_info": {
   "codemirror_mode": {
    "name": "ipython",
    "version": 3
   },
   "file_extension": ".py",
   "mimetype": "text/x-python",
   "name": "python",
   "nbconvert_exporter": "python",
   "pygments_lexer": "ipython3",
   "version": "3.13.9"
  }
 },
 "nbformat": 4,
 "nbformat_minor": 5
}
