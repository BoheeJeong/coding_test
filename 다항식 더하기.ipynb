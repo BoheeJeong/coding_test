{
 "cells": [
  {
   "cell_type": "markdown",
   "id": "583a2e10",
   "metadata": {},
   "source": [
    "# 프로그래머스 | Level 0 | Python 3 | 다항식 더하기\n",
    "## 문제\n",
    "한 개 이상의 항의 합으로 이루어진 식을 다항식이라고 합니다. 다항식을 계산할 때는 동류항끼리 계산해 정리합니다. 덧셈으로 이루어진 다항식 polynomial이 매개변수로 주어질 때, 동류항끼리 더한 결괏값을 문자열로 return 하도록 solution 함수를 완성해보세요. 같은 식이라면 가장 짧은 수식을 return 합니다.\n",
    "\n"
   ]
  },
  {
   "cell_type": "code",
   "execution_count": 44,
   "id": "7717b963",
   "metadata": {},
   "outputs": [
    {
     "name": "stdout",
     "output_type": "stream",
     "text": [
      "1x +31x +7 + 1x +5 + 21x +x\n",
      "['1x', '+31x', '+7', '+', '1x', '+5', '+', '21x', '+x']\n",
      "1x x 포함\n",
      "1\n",
      "+31x x 포함\n",
      "+31\n",
      "1x x 포함\n",
      "1\n",
      "21x x 포함\n",
      "21\n",
      "+x x 포함\n",
      "+\n"
     ]
    },
    {
     "ename": "ValueError",
     "evalue": "invalid literal for int() with base 10: '+'",
     "output_type": "error",
     "traceback": [
      "\u001b[31m---------------------------------------------------------------------------\u001b[39m",
      "\u001b[31mValueError\u001b[39m                                Traceback (most recent call last)",
      "\u001b[36mCell\u001b[39m\u001b[36m \u001b[39m\u001b[32mIn[44]\u001b[39m\u001b[32m, line 26\u001b[39m\n\u001b[32m     24\u001b[39m   x_number = i.replace(\u001b[33m\"\u001b[39m\u001b[33mx\u001b[39m\u001b[33m\"\u001b[39m,\u001b[33m\"\u001b[39m\u001b[33m\"\u001b[39m)\n\u001b[32m     25\u001b[39m   \u001b[38;5;28mprint\u001b[39m(x_number)\n\u001b[32m---> \u001b[39m\u001b[32m26\u001b[39m   x_list.append(\u001b[38;5;28;43mint\u001b[39;49m\u001b[43m(\u001b[49m\u001b[43mx_number\u001b[49m\u001b[43m)\u001b[49m)\n\u001b[32m     29\u001b[39m \u001b[38;5;28;01melif\u001b[39;00m i.find(\u001b[33m\"\u001b[39m\u001b[33mx\u001b[39m\u001b[33m\"\u001b[39m) == -\u001b[32m1\u001b[39m \u001b[38;5;129;01mand\u001b[39;00m i.find(\u001b[33m\"\u001b[39m\u001b[33m+\u001b[39m\u001b[33m\"\u001b[39m) == -\u001b[32m1\u001b[39m :\n\u001b[32m     30\u001b[39m   num_list.append(\u001b[38;5;28mint\u001b[39m(i))\n",
      "\u001b[31mValueError\u001b[39m: invalid literal for int() with base 10: '+'"
     ]
    }
   ],
   "source": [
    "polynomial=\"x + 3x + 7 + x + 5 + 2x + x\"\n",
    "\n",
    "if \"x\" in polynomial:\n",
    "  polynomial_changed= polynomial.replace(\"x + \",\"1x +\")\n",
    "  # polynomial_changed= polynomial_changed.replace(\"+ x +\",\"+ 1x +\")\n",
    "  # polynomial_changed= polynomial_changed.replace(\" + x\",\" + 1x\")\n",
    "\n",
    "\n",
    "print(polynomial_changed)\n",
    "\n",
    "\n",
    "math_text = polynomial_changed.split(\" \")\n",
    "print(math_text)\n",
    "\n",
    "\n",
    "x_list=[]\n",
    "num_list=[]\n",
    "for i in math_text:\n",
    "\n",
    "  \n",
    "  if i.find(\"x\") != -1:\n",
    "    print(i,\"x 포함\")\n",
    "\n",
    "    x_number = i.replace(\"x\",\"\")\n",
    "    print(x_number)\n",
    "    x_list.append(int(x_number))\n",
    "\n",
    "\n",
    "  elif i.find(\"x\") == -1 and i.find(\"+\") == -1 :\n",
    "    num_list.append(int(i))\n",
    "\n",
    "\n",
    "print(x_list)\n",
    "print(num_list)\n",
    "\n",
    "answer = str(sum(x_list)) + \"x\" +\" + \"+str(sum(num_list))\n",
    "print(answer)\n",
    "\n",
    "\n",
    "\n"
   ]
  },
  {
   "cell_type": "code",
   "execution_count": 58,
   "id": "ec3e1064",
   "metadata": {},
   "outputs": [
    {
     "name": "stdout",
     "output_type": "stream",
     "text": [
      "['1x', '+', '3x', '+', '7', '+', '1x', '+', '5', '+', '2x', '+', '1x']\n",
      "1x x 포함\n",
      "1\n",
      "3x x 포함\n",
      "3\n",
      "1x x 포함\n",
      "1\n",
      "2x x 포함\n",
      "2\n",
      "1x x 포함\n",
      "1\n",
      "[1, 3, 1, 2, 1]\n",
      "[7, 5]\n",
      "8x + 12\n"
     ]
    }
   ],
   "source": [
    "polynomial=\"x + 3x + 7 + x + 5 + 2x + x\"\n",
    "\n",
    "polynomial_list = polynomial.split(\" \")\n",
    "\n",
    "for i, item in enumerate(polynomial_list):\n",
    "  if item == \"x\":\n",
    "    polynomial_list[i] = \"1x\"\n",
    "\n",
    "\n",
    "print(polynomial_list)\n",
    "\n",
    "x_list=[]\n",
    "num_list=[]\n",
    "for i in polynomial_list:\n",
    "\n",
    "  \n",
    "  if i.find(\"x\") != -1:\n",
    "    print(i,\"x 포함\")\n",
    "\n",
    "    x_number = i.replace(\"x\",\"\")\n",
    "    print(x_number)\n",
    "    x_list.append(int(x_number))\n",
    "\n",
    "\n",
    "  elif i.find(\"x\") == -1 and i.find(\"+\") == -1 :\n",
    "    num_list.append(int(i))\n",
    "\n",
    "\n",
    "print(x_list)\n",
    "print(num_list)\n",
    "\n",
    "if sum(num_list) == 0:\n",
    "  answer = str(sum(x_list))  + \"x\" \n",
    "else:\n",
    "  answer = str(sum(x_list)) + \"x\" +\" + \"+str(sum(num_list))\n",
    "print(answer)\n",
    "\n",
    "\n",
    "\n"
   ]
  },
  {
   "cell_type": "code",
   "execution_count": null,
   "id": "2f41d0c4",
   "metadata": {},
   "outputs": [],
   "source": [
    "def solution(polynomial):\n",
    "    polynomial_list = polynomial.split(\" \")\n",
    "\n",
    "    for i, item in enumerate(polynomial_list):\n",
    "        if item == \"x\":\n",
    "            polynomial_list[i] = \"1x\"\n",
    "\n",
    "    x_list=[]\n",
    "    num_list=[]\n",
    "    for i in polynomial_list:\n",
    "        \n",
    "        if i.find(\"x\") != -1:\n",
    "\n",
    "            x_number = i.replace(\"x\",\"\")\n",
    "            x_list.append(int(x_number))\n",
    "\n",
    "\n",
    "        elif i.find(\"x\") == -1 and i.find(\"+\") == -1 :\n",
    "            num_list.append(int(i))\n",
    "\n",
    "\n",
    "    if sum(num_list) == 0:\n",
    "        answer = str(sum(x_list))  + \"x\" \n",
    "    else:\n",
    "        answer = str(sum(x_list)) + \"x\" +\" + \"+str(sum(num_list))\n",
    "\n",
    "\n",
    "    return answer"
   ]
  },
  {
   "cell_type": "code",
   "execution_count": null,
   "id": "dc39207c",
   "metadata": {},
   "outputs": [],
   "source": []
  }
 ],
 "metadata": {
  "kernelspec": {
   "display_name": "Python 3",
   "language": "python",
   "name": "python3"
  },
  "language_info": {
   "codemirror_mode": {
    "name": "ipython",
    "version": 3
   },
   "file_extension": ".py",
   "mimetype": "text/x-python",
   "name": "python",
   "nbconvert_exporter": "python",
   "pygments_lexer": "ipython3",
   "version": "3.13.9"
  }
 },
 "nbformat": 4,
 "nbformat_minor": 5
}
