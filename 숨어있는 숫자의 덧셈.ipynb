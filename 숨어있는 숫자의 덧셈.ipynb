{
 "cells": [
  {
   "cell_type": "markdown",
   "id": "94658b9c",
   "metadata": {},
   "source": [
    "# 프로그래머스 | Level 0 | Python 3 | 숨어있는 숫자의 덧셈(1)\n",
    "## 문제\n",
    "문자열 my_string이 매개변수로 주어집니다. my_string안의 모든 자연수들의 합을 return하도록 solution 함수를 완성해주세요.\n",
    "\n",
    "\n",
    "### 제한사항\n",
    "- 1 ≤ my_string의 길이 ≤ 1,000\n",
    "- my_string은 소문자, 대문자 그리고 한자리 자연수로만 구성되어있습니다."
   ]
  },
  {
   "cell_type": "markdown",
   "id": "228af8e7",
   "metadata": {},
   "source": [
    "### 틀렸던 코드\n",
    "\n",
    "숫자가 여러번 나오면 그거에 대해 대응을 못하는 것 확인\n",
    "ex) 1a2b3c4d123 -> 기댓값 16 이나, 결과값 10\n",
    "\n",
    "즉 숫자의 첫 값만 나오는 find 함수는 적합하지 않았음"
   ]
  },
  {
   "cell_type": "code",
   "execution_count": 10,
   "id": "8f0a33df",
   "metadata": {},
   "outputs": [
    {
     "name": "stdout",
     "output_type": "stream",
     "text": [
      "10\n"
     ]
    }
   ],
   "source": [
    "my_string =\"aAb1B2cC34oOp\"\n",
    "result = 10\n",
    "\n",
    "\n",
    "answer=0\n",
    "numbers=[1,2,3,4,5,6,7,8,9]\n",
    "for i in numbers:\n",
    "  num=str(i)\n",
    "  if my_string.find(num) != -1:\n",
    "    num=int(num)\n",
    "    answer+=num\n",
    "\n",
    "\n",
    "\n",
    "print(answer)"
   ]
  },
  {
   "cell_type": "markdown",
   "id": "04213a14",
   "metadata": {},
   "source": [
    "### 수정한 코드\n",
    "find 가 아닌 isnumeric 을 통해 숫자인 경우 해당 값을 더하는 방식으로 수정"
   ]
  },
  {
   "cell_type": "code",
   "execution_count": null,
   "id": "f6f55d06",
   "metadata": {},
   "outputs": [
    {
     "name": "stdout",
     "output_type": "stream",
     "text": [
      "16\n"
     ]
    }
   ],
   "source": [
    "my_string =\"1a2b3c4d123\"\n",
    "answer=0\n",
    "\n",
    "for i in my_string:\n",
    "  # print(i , str.isnumeric(i))\n",
    "\n",
    "  if i.isnumeric():\n",
    "    answer+=int(i)\n",
    "print(answer)\n"
   ]
  },
  {
   "cell_type": "markdown",
   "id": "4426b071",
   "metadata": {},
   "source": []
  }
 ],
 "metadata": {
  "kernelspec": {
   "display_name": "Python 3",
   "language": "python",
   "name": "python3"
  },
  "language_info": {
   "codemirror_mode": {
    "name": "ipython",
    "version": 3
   },
   "file_extension": ".py",
   "mimetype": "text/x-python",
   "name": "python",
   "nbconvert_exporter": "python",
   "pygments_lexer": "ipython3",
   "version": "3.13.9"
  }
 },
 "nbformat": 4,
 "nbformat_minor": 5
}
