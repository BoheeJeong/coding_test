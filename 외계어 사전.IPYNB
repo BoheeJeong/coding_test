{
 "cells": [
  {
   "cell_type": "markdown",
   "id": "8adcb5ce",
   "metadata": {},
   "source": [
    "# 프로그래머스 | Level 0 | Python 3 | 외계어 사전\n",
    "## 문제\n",
    "PROGRAMMERS-962 행성에 불시착한 우주비행사 머쓱이는 외계행성의 언어를 공부하려고 합니다. 알파벳이 담긴 배열 spell과 외계어 사전 dic이 매개변수로 주어집니다. spell에 담긴 알파벳을 한번씩만 모두 사용한 단어가 dic에 존재한다면 1, 존재하지 않는다면 2를 return하도록 solution 함수를 완성해주세요.\n",
    "\n"
   ]
  },
  {
   "cell_type": "code",
   "execution_count": 1,
   "id": "9c2cec3d",
   "metadata": {},
   "outputs": [
    {
     "name": "stdout",
     "output_type": "stream",
     "text": [
      "['d', 'e', 'f']\n",
      "숫자 2\n",
      "['d', 'w', 'w']\n",
      "숫자 2\n",
      "['d', 'x', 'z']\n",
      "숫자 1\n",
      "['a', 'e', 'l', 'o', 'v', 'w']\n",
      "숫자 2\n",
      "[2, 2, 1, 2]\n",
      "1\n"
     ]
    }
   ],
   "source": [
    "spell =[\"z\", \"d\", \"x\"]\n",
    "dic = [\"def\", \"dww\", \"dzx\", \"loveaw\"]\n",
    "answers=[]\n",
    "\n",
    "sorted_spell = sorted(spell)\n",
    "for i in dic:\n",
    "  a=[]\n",
    "\n",
    "  for v in i:\n",
    "    a.append(v)\n",
    "    a.sort()\n",
    "    \n",
    "\n",
    "  print(a)\n",
    "\n",
    "  if sorted_spell ==a:\n",
    "    print(\"숫자\",1)\n",
    "    answers.append(1)\n",
    "  else :\n",
    "    print(\"숫자\",2)\n",
    "    answers.append(2)\n",
    "\n",
    "\n",
    "print(answers)\n",
    "\n",
    "if 1 in answers:\n",
    "  g=1\n",
    "elif 1 not in answers:\n",
    "  g=2\n",
    "\n",
    "print(g)\n",
    "\n",
    "\n"
   ]
  },
  {
   "cell_type": "code",
   "execution_count": null,
   "id": "f537ec20",
   "metadata": {},
   "outputs": [],
   "source": [
    "def solution(spell, dic):\n",
    "    answers=[]\n",
    "\n",
    "    sorted_spell = sorted(spell)\n",
    "    for i in dic:\n",
    "        a=[]\n",
    "        \n",
    "        for v in i:\n",
    "            a.append(v)\n",
    "            a.sort()\n",
    "\n",
    "        if sorted_spell ==a:\n",
    "            answers.append(1)\n",
    "        else :\n",
    "            answers.append(2)\n",
    "\n",
    "\n",
    "    print(answers)\n",
    "\n",
    "    if 1 in answers:\n",
    "        g=1\n",
    "    elif 1 not in answers:\n",
    "        g=2\n",
    "\n",
    "    print(g)\n",
    "    return g"
   ]
  }
 ],
 "metadata": {
  "kernelspec": {
   "display_name": "Python 3",
   "language": "python",
   "name": "python3"
  },
  "language_info": {
   "codemirror_mode": {
    "name": "ipython",
    "version": 3
   },
   "file_extension": ".py",
   "mimetype": "text/x-python",
   "name": "python",
   "nbconvert_exporter": "python",
   "pygments_lexer": "ipython3",
   "version": "3.13.9"
  }
 },
 "nbformat": 4,
 "nbformat_minor": 5
}
