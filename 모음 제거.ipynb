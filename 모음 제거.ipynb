{
 "cells": [
  {
   "cell_type": "markdown",
   "id": "3098db81",
   "metadata": {},
   "source": [
    "# 프로그래머스 | Level 0 | Python 3 | 모음 제거\n",
    "## 문제\n",
    "영어에선 a, e, i, o, u 다섯 가지 알파벳을 모음으로 분류합니다. 문자열 my_string이 매개변수로 주어질 때 모음을 제거한 문자열을 return하도록 solution 함수를 완성해주세요.\n",
    "\n",
    "### 제한사항\n",
    "my_string은 소문자와 공백으로 이루어져 있습니다.\n",
    "1 ≤ my_string의 길이 ≤ 1,000\n"
   ]
  },
  {
   "cell_type": "markdown",
   "id": "71cf5c55",
   "metadata": {},
   "source": [
    "### 정답 코드"
   ]
  },
  {
   "cell_type": "code",
   "execution_count": 5,
   "id": "4d749ee1",
   "metadata": {},
   "outputs": [
    {
     "name": "stdout",
     "output_type": "stream",
     "text": [
      "bs\n"
     ]
    }
   ],
   "source": [
    "my_string = \"bus\"\n",
    "\n",
    "a=''\n",
    "for i in my_string:\n",
    "  if i not in ['a','e','i','o','u']:\n",
    "    a+=i\n",
    "print(a)\n",
    "  "
   ]
  }
 ],
 "metadata": {
  "kernelspec": {
   "display_name": "Python 3",
   "language": "python",
   "name": "python3"
  },
  "language_info": {
   "codemirror_mode": {
    "name": "ipython",
    "version": 3
   },
   "file_extension": ".py",
   "mimetype": "text/x-python",
   "name": "python",
   "nbconvert_exporter": "python",
   "pygments_lexer": "ipython3",
   "version": "3.13.9"
  }
 },
 "nbformat": 4,
 "nbformat_minor": 5
}
