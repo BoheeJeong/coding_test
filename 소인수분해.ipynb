{
 "cells": [
  {
   "cell_type": "markdown",
   "id": "495a3489",
   "metadata": {},
   "source": [
    "# 프로그래머스 | Level 0 | Python 3 | 배열 원소의 길이\n",
    "## 문제\n",
    "소인수분해란 어떤 수를 소수들의 곱으로 표현하는 것입니다. 예를 들어 12를 소인수 분해하면 2 * 2 * 3 으로 나타낼 수 있습니다. 따라서 12의 소인수는 2와 3입니다. 자연수 n이 매개변수로 주어질 때 n의 소인수를 오름차순으로 담은 배열을 return하도록 solution 함수를 완성해주세요.\n"
   ]
  },
  {
   "cell_type": "code",
   "execution_count": 49,
   "id": "057fcf43",
   "metadata": {},
   "outputs": [
    {
     "name": "stdout",
     "output_type": "stream",
     "text": [
      "[2, 3, 5, 7]\n"
     ]
    }
   ],
   "source": [
    "n=420\n",
    "\n",
    "\n",
    "listing =[]\n",
    "a=2\n",
    "for i in range(1,n+1):\n",
    "  if n % a ==0:\n",
    "    if a not in listing:\n",
    "      listing.append(a)\n",
    "      a+=1\n",
    "\n",
    "xx=[]\n",
    "for v in listing:\n",
    "  for u in listing:\n",
    "   z=v*u\n",
    "   xx.append(z)\n",
    "   \n",
    "\n",
    "result=[]\n",
    "for h in listing:\n",
    "  if h not in xx :\n",
    "    result.append(h)\n",
    "\n",
    "if result ==[]:\n",
    "  result.append(n)\n",
    "print(result)\n",
    "\n"
   ]
  },
  {
   "cell_type": "code",
   "execution_count": null,
   "id": "efa217cb",
   "metadata": {},
   "outputs": [
    {
     "name": "stdout",
     "output_type": "stream",
     "text": [
      "[2, 3, 4, 5, 6, 7, 10, 12, 14, 15, 20, 21, 28, 30, 35, 42, 60, 70, 84, 105, 140, 210]\n",
      "[2, 3, 5, 7]\n"
     ]
    }
   ],
   "source": [
    "n=420\n",
    "\n",
    "a=2\n",
    "listing=[]\n",
    "for i in range(1,n+1):\n",
    "  if n%i==0:\n",
    "    listing.append(i)\n",
    "    a+=1\n",
    "\n",
    "\n",
    "listing.remove(1)\n",
    "\n",
    "if len(listing)>1:\n",
    "  listing.remove(n)\n",
    "\n",
    "\n",
    "xx=[]\n",
    "for v in listing:\n",
    "  for u in listing:\n",
    "   z=v*u\n",
    "   xx.append(z)\n",
    "   \n",
    "\n",
    "result=[]\n",
    "for h in listing:\n",
    "  if h not in xx :\n",
    "    result.append(h)\n",
    "\n",
    "if result ==[]:\n",
    "  result.append(n)\n",
    "print(result)\n",
    "\n",
    "\n"
   ]
  }
 ],
 "metadata": {
  "kernelspec": {
   "display_name": "Python 3",
   "language": "python",
   "name": "python3"
  },
  "language_info": {
   "codemirror_mode": {
    "name": "ipython",
    "version": 3
   },
   "file_extension": ".py",
   "mimetype": "text/x-python",
   "name": "python",
   "nbconvert_exporter": "python",
   "pygments_lexer": "ipython3",
   "version": "3.13.9"
  }
 },
 "nbformat": 4,
 "nbformat_minor": 5
}
