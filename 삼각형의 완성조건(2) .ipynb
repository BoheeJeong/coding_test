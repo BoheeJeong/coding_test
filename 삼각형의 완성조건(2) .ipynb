{
 "cells": [
  {
   "cell_type": "markdown",
   "id": "7e89a8e7",
   "metadata": {},
   "source": [
    "# 프로그래머스 | Level 0 | Python 3 | 삼각형의 완성 조건(2)\n",
    "## 문제\n",
    "선분 세 개로 삼각형을 만들기 위해서는 다음과 같은 조건을 만족해야 합니다.\n",
    "\n",
    "가장 긴 변의 길이는 다른 두 변의 길이의 합보다 작아야 합니다.\n",
    "삼각형의 두 변의 길이가 담긴 배열 sides이 매개변수로 주어집니다. 나머지 한 변이 될 수 있는 정수의 개수를 return하도록 solution 함수를 완성해주세요.\n",
    "\n",
    "### 제한사항\n",
    "- sides의 원소는 자연수입니다.\n",
    "- sides의 길이는 2입니다.\n",
    "- 1 ≤ sides의 원소 ≤ 1,000"
   ]
  },
  {
   "cell_type": "code",
   "execution_count": null,
   "id": "581353e1",
   "metadata": {},
   "outputs": [],
   "source": [
    "a=[11,7]\n",
    "\n",
    "# 가장 긴 변이 11 일떄\n",
    "#나머지 한변 5,6,7,8,9,10,11\n",
    "\n",
    "# 가장 긴 변이 7 일때\n",
    "\n",
    "# 다른 하나는 12,13,14,15,16,17\n",
    "\n"
   ]
  },
  {
   "cell_type": "code",
   "execution_count": null,
   "id": "4a4fed3b",
   "metadata": {},
   "outputs": [],
   "source": []
  }
 ],
 "metadata": {
  "language_info": {
   "name": "python"
  }
 },
 "nbformat": 4,
 "nbformat_minor": 5
}
