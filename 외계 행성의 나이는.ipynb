{
 "cells": [
  {
   "cell_type": "markdown",
   "id": "7113226c",
   "metadata": {},
   "source": [
    "# 프로그래머스 | Level 0 | Python 3 | 외계행성의 나이\n",
    "## 문제\n",
    "우주여행을 하던 머쓱이는 엔진 고장으로 PROGRAMMERS-962 행성에 불시착하게 됐습니다. 입국심사에서 나이를 말해야 하는데, PROGRAMMERS-962 행성에서는 나이를 알파벳으로 말하고 있습니다. a는 0, b는 1, c는 2, ..., j는 9입니다. 예를 들어 23살은 cd, 51살은 fb로 표현합니다. 나이 age가 매개변수로 주어질 때 PROGRAMMER-962식 나이를 return하도록 solution 함수를 완성해주세요.\n",
    "\n",
    "### 제한사항\n",
    "- age는 자연수입니다.\n",
    "- age ≤ 1,000\n",
    "- PROGRAMMERS-962 행성은 알파벳 소문자만 사용합니다."
   ]
  },
  {
   "cell_type": "code",
   "execution_count": 9,
   "id": "58963e8c",
   "metadata": {},
   "outputs": [
    {
     "name": "stdout",
     "output_type": "stream",
     "text": [
      "c\n",
      "d\n",
      "cd\n"
     ]
    }
   ],
   "source": [
    "n=23\n",
    "\n",
    "age_eng = {\n",
    "    0: \"a\", 1: \"b\", 2: \"c\", 3: \"d\", 4: \"e\",\n",
    "    5: \"f\", 6: \"g\", 7: \"h\", 8: \"i\", 9: \"j\"\n",
    "}\n",
    "\n",
    "age=\"\"\n",
    "for i in str(n):\n",
    "  print(age_eng[int(i)])\n",
    "  age+=(age_eng[int(i)])\n",
    "\n",
    "print(age)\n"
   ]
  }
 ],
 "metadata": {
  "kernelspec": {
   "display_name": "Python 3",
   "language": "python",
   "name": "python3"
  },
  "language_info": {
   "codemirror_mode": {
    "name": "ipython",
    "version": 3
   },
   "file_extension": ".py",
   "mimetype": "text/x-python",
   "name": "python",
   "nbconvert_exporter": "python",
   "pygments_lexer": "ipython3",
   "version": "3.13.9"
  }
 },
 "nbformat": 4,
 "nbformat_minor": 5
}
