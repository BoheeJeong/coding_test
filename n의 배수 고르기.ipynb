{
 "cells": [
  {
   "cell_type": "markdown",
   "id": "904dc692",
   "metadata": {},
   "source": [
    "# 프로그래머스 | Level 0 | Python 3 | n의 배수 고르기\n",
    "## 문제\n",
    "정수 n과 정수 배열 numlist가 매개변수로 주어질 때, numlist에서 n의 배수가 아닌 수들을 제거한 배열을 return하도록 solution 함수를 완성해주세요.\n",
    "\n",
    "### 제한사항\n",
    "- ≤ n ≤ 10,000\n",
    "- 1 ≤ numlist의 크기 ≤ 100\n",
    "- 1 ≤ numlist의 원소 ≤ 100,000"
   ]
  },
  {
   "cell_type": "code",
   "execution_count": null,
   "id": "103fd813",
   "metadata": {},
   "outputs": [],
   "source": [
    "n=3\n",
    "numlist=[4, 5, 6, 7, 8, 9, 10, 11, 12]\n",
    "\n",
    "\n",
    "a=[]\n",
    "for i in numlist:\n",
    "  if i%n ==0:\n",
    "    a.append(i)\n",
    "\n",
    "print(a)\n"
   ]
  }
 ],
 "metadata": {
  "kernelspec": {
   "display_name": "Python 3",
   "language": "python",
   "name": "python3"
  },
  "language_info": {
   "name": "python",
   "version": "3.13.9"
  }
 },
 "nbformat": 4,
 "nbformat_minor": 5
}
