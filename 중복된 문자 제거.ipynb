{
 "cells": [
  {
   "cell_type": "markdown",
   "id": "dfbfe703",
   "metadata": {},
   "source": [
    "# 프로그래머스 | Level 0 | Python 3 | 중복된 문자 제거\n",
    "## 문제\n",
    "문자열 my_string이 매개변수로 주어집니다. my_string에서 중복된 문자를 제거하고 하나의 문자만 남긴 문자열을 return하도록 solution 함수를 완성해주세요.\n",
    "\n",
    "\n",
    "### 제한사항\n",
    "- 1 ≤ my_string ≤ 110\n",
    "- my_string은 대문자, 소문자, 공백으로 구성되어 있습니다.\n",
    "- 대문자와 소문자를 구분합니다.\n",
    "- 공백(\" \")도 하나의 문자로 구분합니다.\n",
    "- 중복된 문자 중 가장 앞에 있는 문자를 남깁니다."
   ]
  },
  {
   "cell_type": "code",
   "execution_count": 8,
   "id": "43d9b8db",
   "metadata": {},
   "outputs": [
    {
     "name": "stdout",
     "output_type": "stream",
     "text": [
      "peol\n"
     ]
    }
   ],
   "source": [
    "my_string = \"people\"\n",
    "result=\"peol\"\n",
    "\n",
    "a=[]\n",
    "for i in my_string:\n",
    "  if i not in a:\n",
    "    a.append(i)\n",
    "\n",
    "d=\"\"\n",
    "d.join(a)\n",
    "print(d.join(a))"
   ]
  }
 ],
 "metadata": {
  "kernelspec": {
   "display_name": "Python 3",
   "language": "python",
   "name": "python3"
  },
  "language_info": {
   "codemirror_mode": {
    "name": "ipython",
    "version": 3
   },
   "file_extension": ".py",
   "mimetype": "text/x-python",
   "name": "python",
   "nbconvert_exporter": "python",
   "pygments_lexer": "ipython3",
   "version": "3.13.9"
  }
 },
 "nbformat": 4,
 "nbformat_minor": 5
}
