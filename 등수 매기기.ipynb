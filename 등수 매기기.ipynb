{
 "cells": [
  {
   "cell_type": "markdown",
   "id": "449b5ce0",
   "metadata": {},
   "source": [
    "# 프로그래머스 | Level 0 | Python 3 | 등수매기기\n",
    "## 문제\n",
    "영어 점수와 수학 점수의 평균 점수를 기준으로 학생들의 등수를 매기려고 합니다. 영어 점수와 수학 점수를 담은 2차원 정수 배열 score가 주어질 때, 영어 점수와 수학 점수의 평균을 기준으로 매긴 등수를 담은 배열을 return하도록 solution 함수를 완성해주세요.\n",
    "\n",
    "### 제한사항\n",
    "- 0 ≤ score[0], score[1] ≤ 100\n",
    "- 1 ≤ score의 길이 ≤ 10\n",
    "- score의 원소 길이는 2입니다.\n",
    "- score는 중복된 원소를 갖지 않습니다."
   ]
  },
  {
   "cell_type": "code",
   "execution_count": 47,
   "id": "660603ad",
   "metadata": {},
   "outputs": [
    {
     "name": "stdout",
     "output_type": "stream",
     "text": [
      "75.0\n",
      "75.0\n",
      "40.0\n",
      "95.0\n",
      "95.0\n",
      "100.0\n",
      "20.0\n",
      "1 100.0\n",
      "2 95.0\n",
      "3 75.0\n",
      "4 40.0\n",
      "5 20.0\n",
      "123\n",
      "[100.0, 95.0, 75.0, 40.0, 20.0]\n",
      "[4]\n"
     ]
    }
   ],
   "source": [
    "score =[[80, 70], [70, 80], [30, 50], [90, 100], [100, 90], [100, 100], [10, 30]]\n",
    "\n",
    "\n",
    "ranking =[]\n",
    "for i,score_list in enumerate(score):\n",
    "  size=len(score_list)\n",
    "  avg=sum(score_list)/size\n",
    "  print(avg)\n",
    "\n",
    "  if avg not in ranking:\n",
    "    ranking.append(avg)\n",
    "  ranking.sort(reverse=True)\n",
    "\n",
    "for v,ranking_list in enumerate(ranking):\n",
    "  print(v+1,ranking_list)\n",
    "   \n",
    "  answer=[]\n",
    "  if avg == ranking_list:\n",
    "    print(123)\n",
    "    answer.append(v)\n",
    "\n",
    "print(ranking)\n",
    "print(answer)\n",
    "\n"
   ]
  },
  {
   "cell_type": "code",
   "execution_count": 50,
   "id": "90e69441",
   "metadata": {},
   "outputs": [
    {
     "name": "stdout",
     "output_type": "stream",
     "text": [
      "75.0\n",
      "75.0\n",
      "40.0\n",
      "95.0\n",
      "95.0\n",
      "100.0\n",
      "20.0\n"
     ]
    }
   ],
   "source": [
    "score =[[80, 70], [70, 80], [30, 50], [90, 100], [100, 90], [100, 100], [10, 30]]\n",
    "\n",
    "for i,score_list in enumerate(score):\n",
    "  size=len(score_list)\n",
    "  avg=sum(score_list)/size\n",
    "  print(avg)\n",
    "\n"
   ]
  },
  {
   "cell_type": "code",
   "execution_count": 1,
   "id": "2124e375",
   "metadata": {},
   "outputs": [],
   "source": [
    "score =[[80, 70], [70, 80], [30, 50], [90, 100], [100, 90], [100, 100], [10, 30]]\n",
    "\n",
    "avg = []  # \n",
    "for i in score:\n",
    "  avg.append(sum(i) / 2)\n",
    "  s_avg = sorted(avg, reverse=True) "
   ]
  },
  {
   "cell_type": "code",
   "execution_count": 2,
   "id": "cadd7535",
   "metadata": {},
   "outputs": [],
   "source": [
    "score  =[[80, 70], [70, 80], [30, 50], [90, 100], [100, 90], [100, 100], [10, 30]]\n",
    "\n",
    "\n",
    "\n"
   ]
  }
 ],
 "metadata": {
  "kernelspec": {
   "display_name": "Python 3",
   "language": "python",
   "name": "python3"
  },
  "language_info": {
   "codemirror_mode": {
    "name": "ipython",
    "version": 3
   },
   "file_extension": ".py",
   "mimetype": "text/x-python",
   "name": "python",
   "nbconvert_exporter": "python",
   "pygments_lexer": "ipython3",
   "version": "3.13.9"
  }
 },
 "nbformat": 4,
 "nbformat_minor": 5
}
