{
 "cells": [
  {
   "cell_type": "markdown",
   "id": "f39dc8a8",
   "metadata": {},
   "source": [
    "# 프로그래머스 | Level 0 | Python 3 | 한번만 등장한 문자\n",
    "## 문제\n",
    "문자열 s가 매개변수로 주어집니다. s에서 한 번만 등장하는 문자를 사전 순으로 정렬한 문자열을 return 하도록 solution 함수를 완성해보세요. 한 번만 등장하는 문자가 없을 경우 빈 문자열을 return 합니다.\n",
    "\n",
    "\n",
    "### 제한사항\n",
    "- 0 < s의 길이 < 1,000\n",
    "- s는 소문자로만 이루어져 있습니다.."
   ]
  },
  {
   "cell_type": "code",
   "execution_count": 12,
   "id": "75e43723",
   "metadata": {},
   "outputs": [
    {
     "name": "stdout",
     "output_type": "stream",
     "text": [
      "a\n",
      "b\n",
      "d\n",
      "c\n"
     ]
    }
   ],
   "source": [
    "s=\"abdc\"\n",
    "\n",
    "a=[]\n",
    "for i in s:\n",
    "  print(i)\n",
    "  if s.count(i)==1:\n",
    "    a.append(i)\n",
    "    a.sort()\n",
    "\n",
    "answer=\"\".join(a)\n",
    "\n"
   ]
  }
 ],
 "metadata": {
  "kernelspec": {
   "display_name": "Python 3",
   "language": "python",
   "name": "python3"
  },
  "language_info": {
   "codemirror_mode": {
    "name": "ipython",
    "version": 3
   },
   "file_extension": ".py",
   "mimetype": "text/x-python",
   "name": "python",
   "nbconvert_exporter": "python",
   "pygments_lexer": "ipython3",
   "version": "3.13.9"
  }
 },
 "nbformat": 4,
 "nbformat_minor": 5
}
