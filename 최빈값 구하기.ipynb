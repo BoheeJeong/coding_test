{
 "cells": [
  {
   "cell_type": "markdown",
   "id": "44a7ca53",
   "metadata": {},
   "source": [
    "# 프로그래머스 | Level 0 | Python 3 | 최빈값 구하기\n",
    "## 문제\n",
    "최빈값은 주어진 값 중에서 가장 자주 나오는 값을 의미합니다. 정수 배열 array가 매개변수로 주어질 때, 최빈값을 return 하도록 solution 함수를 완성해보세요. 최빈값이 여러 개면 -1을 return 합니다.\n",
    "\n",
    "\n",
    "### 제한사항\n",
    "- 0 < array의 길이 < 100\n",
    "- 0 ≤ array의 원소 < 1000"
   ]
  },
  {
   "cell_type": "code",
   "execution_count": 11,
   "id": "dd6e20ed",
   "metadata": {},
   "outputs": [
    {
     "name": "stdout",
     "output_type": "stream",
     "text": [
      "[1, 1, 2, 2]\n",
      "2 2\n",
      "3 2\n"
     ]
    }
   ],
   "source": [
    "array = [1,2,3,3]\n",
    "\n",
    "count_list =[]\n",
    "for i in array:\n",
    "  b=array.count(i)\n",
    "  count_list.append(b)\n",
    "\n",
    "print(count_list)\n",
    "\n",
    "for v,item in enumerate(count_list):\n",
    "  if max(count_list) == item:\n",
    "    print(v,item)\n"
   ]
  }
 ],
 "metadata": {
  "kernelspec": {
   "display_name": "Python 3",
   "language": "python",
   "name": "python3"
  },
  "language_info": {
   "codemirror_mode": {
    "name": "ipython",
    "version": 3
   },
   "file_extension": ".py",
   "mimetype": "text/x-python",
   "name": "python",
   "nbconvert_exporter": "python",
   "pygments_lexer": "ipython3",
   "version": "3.13.9"
  }
 },
 "nbformat": 4,
 "nbformat_minor": 5
}
