{
 "cells": [
  {
   "cell_type": "markdown",
   "id": "bb00b835",
   "metadata": {},
   "source": [
    "# 프로그래머스 | Level 0 | Python 3 | k의 개수\n",
    "## 문제\n",
    "1부터 13까지의 수에서, 1은 1, 10, 11, 12, 13 이렇게 총 6번 등장합니다. 정수 i, j, k가 매개변수로 주어질 때, i부터 j까지 k가 몇 번 등장하는지 return 하도록 solution 함수를 완성해주세요.\n",
    "\n",
    "### 제한사항\n",
    "- 1 ≤ i < j ≤ 100,000\n",
    "- 0 ≤ k ≤ 9"
   ]
  },
  {
   "cell_type": "code",
   "execution_count": null,
   "id": "88bbe1a2",
   "metadata": {},
   "outputs": [],
   "source": [
    "i=10\n",
    "j=50\n",
    "k=5\n",
    "\n",
    "def solution(i, j, k):\n",
    "    a=\"\"\n",
    "    for i in range(i,j+1):\n",
    "        a+=str(i)\n",
    "\n",
    "    b=a.count(str(k))\n",
    "    return b"
   ]
  }
 ],
 "metadata": {
  "kernelspec": {
   "display_name": "Python 3",
   "language": "python",
   "name": "python3"
  },
  "language_info": {
   "name": "python",
   "version": "3.13.9"
  }
 },
 "nbformat": 4,
 "nbformat_minor": 5
}
