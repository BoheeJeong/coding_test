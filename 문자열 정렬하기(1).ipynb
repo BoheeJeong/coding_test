{
 "cells": [
  {
   "cell_type": "markdown",
   "id": "28f582da",
   "metadata": {},
   "source": [
    "# 프로그래머스 | Level 0 | Python 3 | 문자열 정렬하기(1)\n",
    "## 문제\n",
    "문자열 my_string이 매개변수로 주어질 때, my_string 안에 있는 숫자만 골라 오름차순 정렬한 리스트를 return 하도록 solution 함수를 작성해보세요.\n",
    "\n",
    "### 제한사항\n",
    "1 ≤ my_string의 길이 ≤ 100\n",
    "my_string에는 숫자가 한 개 이상 포함되어 있습니다.\n",
    "my_string은 영어 소문자 또는 0부터 9까지의 숫자로 이루어져 있습니다. - - -"
   ]
  },
  {
   "cell_type": "markdown",
   "id": "a444b71a",
   "metadata": {},
   "source": [
    "### 정답 코드"
   ]
  },
  {
   "cell_type": "code",
   "execution_count": 14,
   "id": "71c122f3",
   "metadata": {},
   "outputs": [
    {
     "name": "stdout",
     "output_type": "stream",
     "text": [
      "2\n",
      "4\n",
      "8\n",
      "2\n",
      "[2, 2, 4, 8]\n"
     ]
    }
   ],
   "source": [
    "my_string=\"p2o4i8gj2\"\n",
    "\n",
    "a=[]\n",
    "for i in my_string:\n",
    "  if i in [\"1\",\"2\",\"3\",\"4\",\"5\",\"6\",\"7\",\"8\",\"9\",\"0\"]:\n",
    "    print(i)\n",
    "    a.append(int(i))\n",
    "print(sorted(a))\n"
   ]
  }
 ],
 "metadata": {
  "kernelspec": {
   "display_name": "Python 3",
   "language": "python",
   "name": "python3"
  },
  "language_info": {
   "codemirror_mode": {
    "name": "ipython",
    "version": 3
   },
   "file_extension": ".py",
   "mimetype": "text/x-python",
   "name": "python",
   "nbconvert_exporter": "python",
   "pygments_lexer": "ipython3",
   "version": "3.13.9"
  }
 },
 "nbformat": 4,
 "nbformat_minor": 5
}
